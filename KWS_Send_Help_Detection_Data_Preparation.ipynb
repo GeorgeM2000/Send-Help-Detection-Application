{
  "nbformat": 4,
  "nbformat_minor": 0,
  "metadata": {
    "colab": {
      "name": "KWS_Send_Help_Detection_Data_Preparation.ipynb",
      "provenance": [],
      "collapsed_sections": []
    },
    "kernelspec": {
      "name": "python3",
      "display_name": "Python 3"
    },
    "language_info": {
      "name": "python"
    }
  },
  "cells": [
    {
      "cell_type": "code",
      "metadata": {
        "id": "--FNC-gfTRjF"
      },
      "source": [
        "%tensorflow_version 1.x\n",
        "import tensorflow as tf\n",
        "!wget https://github.com/tensorflow/tensorflow/archive/v2.4.1.zip\n",
        "!unzip v2.4.1.zip &> 0\n",
        "!mv tensorflow-2.4.1/ tensorflow/\n",
        "import sys\n",
        "# We add this path so we can import the speech processing modules.\n",
        "sys.path.append(\"/content/tensorflow/tensorflow/examples/speech_commands/\")\n",
        "import input_data\n",
        "import models\n",
        "import numpy as np\n",
        "import glob\n",
        "import os\n",
        "import re\n",
        "import shutil\n",
        "from google.colab import files    # To upload the keyword recordings that we have selected\n",
        "!pip install ffmpeg-python &> 0\n",
        "!apt-get update && apt-get -qq install xxd"
      ],
      "execution_count": null,
      "outputs": []
    },
    {
      "cell_type": "code",
      "metadata": {
        "id": "RPwaKUO1T9am"
      },
      "source": [
        "# Get the 'speech_commands' dataset so we can build our dataset ontop of the 'speech_commands' dataset \n",
        "!wget https://storage.googleapis.com/download.tensorflow.org/data/speech_commands_v0.02.tar.gz\n",
        "\n",
        "# Create a 'dataset' folder\n",
        "DATASET_DIR =  'dataset/'\n",
        "!mkdir dataset\n",
        "\n",
        "# Extract the 'speech_commands' dataset and store it to the 'dataset' folder\n",
        "!tar -xf speech_commands_v0.02.tar.gz -C 'dataset'\n",
        "!rm -r -f speech_commands_v0.02.tar.gz"
      ],
      "execution_count": null,
      "outputs": []
    },
    {
      "cell_type": "code",
      "metadata": {
        "id": "7_3r0L-dVl5G"
      },
      "source": [
        "# Upload your keyword recordings\n",
        "uploaded = files.upload()"
      ],
      "execution_count": null,
      "outputs": []
    },
    {
      "cell_type": "code",
      "metadata": {
        "id": "FADfn7rUVwSl"
      },
      "source": [
        "# Convert the ogg files to wav files\n",
        "!mkdir wavs\n",
        "!find *.ogg -print0 | xargs -0 basename -s .ogg | xargs -I {} ffmpeg -i {}.ogg -ar 16000 wavs/{}.wav\n",
        "!rm -r -f *.ogg\n",
        "\n",
        "# Use pete warden's tool to only extract 1 second clips\n",
        "!mkdir trimmed_wavs\n",
        "!git clone https://github.com/petewarden/extract_loudest_section.git\n",
        "!make -C extract_loudest_section/\n",
        "!/tmp/extract_loudest_section/gen/bin/extract_loudest_section 'wavs/*.wav' trimmed_wavs/\n",
        "!rm -r -f /wavs"
      ],
      "execution_count": null,
      "outputs": []
    },
    {
      "cell_type": "code",
      "metadata": {
        "id": "jaFqJKksWACk"
      },
      "source": [
        "# Change the current directory to where the 1 second clip wav files are located\n",
        "os.chdir('/content/trimmed_wavs/')\n",
        "\n",
        "search_path_help = os.path.join('help_*.wav')   \n",
        "search_path_send = os.path.join('send_*.wav')\n",
        "\n",
        "# Count how many files for the keyword 'help' exist in the 'trimmed_wavs' folder\n",
        "helpCount = 0\n",
        "for file in glob.glob(search_path_help):\n",
        "  helpCount+=1\n",
        "\n",
        "# Count how many files for the keyword 'send' exist in the 'trimmed_wavs' folder\n",
        "sendCount = 0\n",
        "for file in glob.glob(search_path_send):\n",
        "  sendCount += 1\n",
        "\n",
        "print(\"Help files count --> \",helpCount)\n",
        "print(\"Send files count --> \",sendCount)\n",
        "\n",
        "# Change the directory back to the initial location\n",
        "os.chdir('/content/')"
      ],
      "execution_count": null,
      "outputs": []
    },
    {
      "cell_type": "code",
      "metadata": {
        "id": "xC9H-CxhXO7d"
      },
      "source": [
        "# Store the wav files to the dataset folder\n",
        "data_index = {}\n",
        "os.chdir('trimmed_wavs')\n",
        "search_path = os.path.join('*.wav')\n",
        "for wav_path in glob.glob(search_path):\n",
        "    original_wav_path = wav_path\n",
        "    parts = wav_path.split('_')\n",
        "    if len(parts) > 2:\n",
        "        wav_path = parts[0] + '_' + ''.join(parts[1:])\n",
        "    matches = re.search('([^/_]+)_([^/_]+)\\.wav', wav_path)\n",
        "    if not matches:\n",
        "        raise Exception('File name not in a recognized form:\"%s\"' % wav_path)\n",
        "    word = matches.group(1).lower()\n",
        "    instance = matches.group(2).lower()\n",
        "    if not word in data_index:\n",
        "      data_index[word] = {}\n",
        "    if instance in data_index[word]:\n",
        "        raise Exception('Audio instance already seen:\"%s\"' % wav_path)\n",
        "    data_index[word][instance] = original_wav_path\n",
        "\n",
        "output_dir = os.path.join('..', 'dataset')\n",
        "try:\n",
        "    os.mkdir(output_dir)\n",
        "except:\n",
        "    pass\n",
        "for word in data_index:\n",
        "  word_dir = os.path.join(output_dir, word)\n",
        "  try:\n",
        "      os.mkdir(word_dir)\n",
        "      print('Created dir: ' + word_dir)\n",
        "  except:\n",
        "      print('Storing in existing dir: ' + word_dir)\n",
        "  for instance in data_index[word]:\n",
        "    wav_path = data_index[word][instance]\n",
        "    output_path = os.path.join(word_dir, instance + '.wav')\n",
        "    shutil.copyfile(wav_path, output_path)\n",
        "os.chdir('..')\n",
        "!rm -r -f trimmed_wavs"
      ],
      "execution_count": null,
      "outputs": []
    }
  ]
}