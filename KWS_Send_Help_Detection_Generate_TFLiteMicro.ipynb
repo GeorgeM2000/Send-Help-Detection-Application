{
  "nbformat": 4,
  "nbformat_minor": 0,
  "metadata": {
    "colab": {
      "name": "KWS_Send_Help_Detection_Generate_TFLiteMicro.ipynb",
      "provenance": [],
      "collapsed_sections": []
    },
    "kernelspec": {
      "name": "python3",
      "display_name": "Python 3"
    },
    "language_info": {
      "name": "python"
    }
  },
  "cells": [
    {
      "cell_type": "code",
      "metadata": {
        "id": "m0urq4kdhZJH"
      },
      "source": [
        "# Convert the tensorflow lite quantized model into a\n",
        "# C source file that we can use to upload the model \n",
        "# to a microcontroller\n",
        "!xxd -i {MODEL_TFLITE} > {MODEL_TFLITE_MICRO}\n",
        "REPLACE_TEXT = MODEL_TFLITE.replace('/', '_').replace('.', '_')\n",
        "!sed -i 's/'{REPLACE_TEXT}'/g_model/g' {MODEL_TFLITE_MICRO}"
      ],
      "execution_count": null,
      "outputs": []
    },
    {
      "cell_type": "code",
      "metadata": {
        "id": "OQJflagOiDFL"
      },
      "source": [
        "# Run this cell and copy only the hexadecimals values\n",
        "!cat {MODEL_TFLITE_MICRO}"
      ],
      "execution_count": null,
      "outputs": []
    }
  ]
}